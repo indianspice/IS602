{
 "cells": [
  {
   "cell_type": "markdown",
   "metadata": {},
   "source": [
    "# IS602 Final Project\n",
    "### Sharon Morris - May 5, 2017"
   ]
  },
  {
   "cell_type": "markdown",
   "metadata": {},
   "source": [
    "## Introduction\n",
    "\n",
    "The motivation for this study is to better understand New York City's food establishment inspection and restaurant letter grading program. As a New York city resident, I typically choose to patronize or to not patronize a food establishment based on the letter grade displayed in the window. Ninety-five percent of the time the choice is an establishment with an 'A' letter grade rating. \n",
    "\n",
    "The preference for food establishments with an 'A' letter grade rating is made on the assumption that an 'A' letter grade means an establishment had minor violations. Conversely, the assumption is a 'C' letter grade meant the conditions are less than desirable.\n",
    "\n",
    "New York City is know for its restaurants. Many people from around the globe visit and look forward to sampling delicious food. Anyone who patronizes New York City food establishments would be interested in understanding the grading system so that they can make informed decisions about whether to choose an establishment based on the letter grade rating.\n",
    "\n",
    "## New York City Letter Grading Program \n",
    "New York City's inspection and letter grading program data set contains a listing of active restaurants and college cafeterias that have been inspected. The program started on July 27, 2010. The program allows for dual inspections where restaurants are allowed to improve before receiving a letter grade.\n",
    "\n",
    "An initial inspection is followed by a re-inspection no less than 7 days later for restaurants that don’t receive an “A” grade on their initial inspection. A score less than 14 results in a letter grade of 'A' during the initial and re-inspection, a re-inspection score of 14-27 results in a 'B' and re-inspection of score greater than 27 results in 'C'.\n",
    "\n",
    "## Data Collection\n",
    "\n",
    "The data were compiled from several New York City Department of Health and Mental Hygiene administrative systems. There are some data quality issues related to data entry or data transfer.\n",
    "\n",
    "Each row represent a violation with 18 variables about the inspection. There are 1,000 cases. Some cases are not complete. Cases with missing values were removed which resulted in 516 cases.\n",
    "\n",
    "The data set contains every sustained or not yet adjudicated violation citation from every full or special program inspection conducted up to three years prior to the most recent inspection for restaurants and college cafeterias\n",
    "\n",
    "## Scope of inference\n",
    "These data and findings are of interest to restaurant owners and those who are considering opening food establishments in New York City. This information can use to determine the relationship between the inspection and letter grade received. \n",
    "\n",
    "## Type of study\n",
    "This is an observational study. The response variable is the grade the food establishment receives. The response variable is categorical. The explanatory variable is the inspection type, whether the inspection is initial or a re-inspection. The inspection type is a categorical variable.\n"
   ]
  },
  {
   "cell_type": "code",
   "execution_count": 69,
   "metadata": {
    "collapsed": true,
    "scrolled": true
   },
   "outputs": [],
   "source": [
    "%matplotlib inline\n",
    "#%load_ext signature\n",
    "\n",
    "import urllib\n",
    "import json\n",
    "import pandas as pd\n",
    "from collections import Counter\n",
    "import random\n",
    "import matplotlib as mpl\n",
    "import matplotlib.pyplot as plt\n",
    "import seaborn as sns\n",
    "import numpy as np\n",
    "import nltk\n",
    "from nltk.corpus import stopwords\n",
    "import string\n",
    "from os import path\n",
    "import  PIL\n",
    "from PIL import Image\n",
    "from scipy.special import stdtr\n",
    "from scipy import stats\n",
    "from nltk.corpus import stopwords\n",
    "from scipy.misc import imread\n",
    "from sklearn.feature_extraction.stop_words import ENGLISH_STOP_WORDS\n",
    "from wordcloud import WordCloud, STOPWORDS\n"
   ]
  },
  {
   "cell_type": "markdown",
   "metadata": {},
   "source": [
    "### Load the data"
   ]
  },
  {
   "cell_type": "code",
   "execution_count": 96,
   "metadata": {
    "scrolled": true
   },
   "outputs": [
    {
     "data": {
      "text/html": [
       "<div>\n",
       "<style>\n",
       "    .dataframe thead tr:only-child th {\n",
       "        text-align: right;\n",
       "    }\n",
       "\n",
       "    .dataframe thead th {\n",
       "        text-align: left;\n",
       "    }\n",
       "\n",
       "    .dataframe tbody tr th {\n",
       "        vertical-align: top;\n",
       "    }\n",
       "</style>\n",
       "<table border=\"1\" class=\"dataframe\">\n",
       "  <thead>\n",
       "    <tr style=\"text-align: right;\">\n",
       "      <th></th>\n",
       "      <th>action</th>\n",
       "      <th>boro</th>\n",
       "      <th>building</th>\n",
       "      <th>camis</th>\n",
       "      <th>critical_flag</th>\n",
       "      <th>cuisine_description</th>\n",
       "      <th>dba</th>\n",
       "      <th>grade</th>\n",
       "      <th>grade_date</th>\n",
       "      <th>inspection_date</th>\n",
       "      <th>inspection_type</th>\n",
       "      <th>phone</th>\n",
       "      <th>record_date</th>\n",
       "      <th>score</th>\n",
       "      <th>street</th>\n",
       "      <th>violation_code</th>\n",
       "      <th>violation_description</th>\n",
       "      <th>zipcode</th>\n",
       "    </tr>\n",
       "  </thead>\n",
       "  <tbody>\n",
       "    <tr>\n",
       "      <th>0</th>\n",
       "      <td>Violations were cited in the following area(s).</td>\n",
       "      <td>MANHATTAN</td>\n",
       "      <td>1228</td>\n",
       "      <td>40901832</td>\n",
       "      <td>Not Critical</td>\n",
       "      <td>Bagels/Pretzels</td>\n",
       "      <td>TAL BAGELS</td>\n",
       "      <td>A</td>\n",
       "      <td>2016-05-05T00:00:00.000</td>\n",
       "      <td>2016-05-05T00:00:00.000</td>\n",
       "      <td>Cycle Inspection / Initial Inspection</td>\n",
       "      <td>2127172080</td>\n",
       "      <td>2017-05-22T06:00:53.000</td>\n",
       "      <td>7</td>\n",
       "      <td>LEXINGTON AVENUE</td>\n",
       "      <td>10F</td>\n",
       "      <td>Non-food contact surface improperly constructe...</td>\n",
       "      <td>10028</td>\n",
       "    </tr>\n",
       "    <tr>\n",
       "      <th>1</th>\n",
       "      <td>Violations were cited in the following area(s).</td>\n",
       "      <td>MANHATTAN</td>\n",
       "      <td>153</td>\n",
       "      <td>50010785</td>\n",
       "      <td>Critical</td>\n",
       "      <td>French</td>\n",
       "      <td>LA TARTE FLAMBEE</td>\n",
       "      <td>NaN</td>\n",
       "      <td>NaN</td>\n",
       "      <td>2014-09-08T00:00:00.000</td>\n",
       "      <td>Cycle Inspection / Initial Inspection</td>\n",
       "      <td>9172612070</td>\n",
       "      <td>2017-05-22T06:00:53.000</td>\n",
       "      <td>19</td>\n",
       "      <td>E 33RD ST</td>\n",
       "      <td>02G</td>\n",
       "      <td>Cold food item held above 41Âº F (smoked fish ...</td>\n",
       "      <td>10016</td>\n",
       "    </tr>\n",
       "    <tr>\n",
       "      <th>2</th>\n",
       "      <td>Establishment Closed by DOHMH.  Violations wer...</td>\n",
       "      <td>BROOKLYN</td>\n",
       "      <td>210</td>\n",
       "      <td>50057665</td>\n",
       "      <td>Critical</td>\n",
       "      <td>CafÃ©/Coffee/Tea</td>\n",
       "      <td>GIVING COFFEE</td>\n",
       "      <td>NaN</td>\n",
       "      <td>NaN</td>\n",
       "      <td>2017-03-13T00:00:00.000</td>\n",
       "      <td>Pre-permit (Operational) / Initial Inspection</td>\n",
       "      <td>9177333360</td>\n",
       "      <td>2017-05-22T06:00:53.000</td>\n",
       "      <td>58</td>\n",
       "      <td>41ST ST</td>\n",
       "      <td>05E</td>\n",
       "      <td>Toilet facility not provided for employees or ...</td>\n",
       "      <td>11232</td>\n",
       "    </tr>\n",
       "    <tr>\n",
       "      <th>3</th>\n",
       "      <td>Violations were cited in the following area(s).</td>\n",
       "      <td>BROOKLYN</td>\n",
       "      <td>6103</td>\n",
       "      <td>50061299</td>\n",
       "      <td>Critical</td>\n",
       "      <td>Chinese</td>\n",
       "      <td>FINEST EVER LUCK RESTAURANT</td>\n",
       "      <td>Not Yet Graded</td>\n",
       "      <td>NaN</td>\n",
       "      <td>2017-05-16T00:00:00.000</td>\n",
       "      <td>Pre-permit (Operational) / Initial Inspection</td>\n",
       "      <td>7188373060</td>\n",
       "      <td>2017-05-22T06:00:53.000</td>\n",
       "      <td>63</td>\n",
       "      <td>20TH AVE</td>\n",
       "      <td>05D</td>\n",
       "      <td>Hand washing facility not provided in or near ...</td>\n",
       "      <td>11204</td>\n",
       "    </tr>\n",
       "  </tbody>\n",
       "</table>\n",
       "</div>"
      ],
      "text/plain": [
       "                                              action       boro building  \\\n",
       "0    Violations were cited in the following area(s).  MANHATTAN     1228   \n",
       "1    Violations were cited in the following area(s).  MANHATTAN      153   \n",
       "2  Establishment Closed by DOHMH.  Violations wer...   BROOKLYN      210   \n",
       "3    Violations were cited in the following area(s).   BROOKLYN     6103   \n",
       "\n",
       "      camis critical_flag cuisine_description                          dba  \\\n",
       "0  40901832  Not Critical     Bagels/Pretzels                   TAL BAGELS   \n",
       "1  50010785      Critical              French             LA TARTE FLAMBEE   \n",
       "2  50057665      Critical    CafÃ©/Coffee/Tea                GIVING COFFEE   \n",
       "3  50061299      Critical             Chinese  FINEST EVER LUCK RESTAURANT   \n",
       "\n",
       "            grade               grade_date          inspection_date  \\\n",
       "0               A  2016-05-05T00:00:00.000  2016-05-05T00:00:00.000   \n",
       "1             NaN                      NaN  2014-09-08T00:00:00.000   \n",
       "2             NaN                      NaN  2017-03-13T00:00:00.000   \n",
       "3  Not Yet Graded                      NaN  2017-05-16T00:00:00.000   \n",
       "\n",
       "                                 inspection_type       phone  \\\n",
       "0          Cycle Inspection / Initial Inspection  2127172080   \n",
       "1          Cycle Inspection / Initial Inspection  9172612070   \n",
       "2  Pre-permit (Operational) / Initial Inspection  9177333360   \n",
       "3  Pre-permit (Operational) / Initial Inspection  7188373060   \n",
       "\n",
       "               record_date score            street violation_code  \\\n",
       "0  2017-05-22T06:00:53.000     7  LEXINGTON AVENUE            10F   \n",
       "1  2017-05-22T06:00:53.000    19         E 33RD ST            02G   \n",
       "2  2017-05-22T06:00:53.000    58           41ST ST            05E   \n",
       "3  2017-05-22T06:00:53.000    63          20TH AVE            05D   \n",
       "\n",
       "                               violation_description zipcode  \n",
       "0  Non-food contact surface improperly constructe...   10028  \n",
       "1  Cold food item held above 41Âº F (smoked fish ...   10016  \n",
       "2  Toilet facility not provided for employees or ...   11232  \n",
       "3  Hand washing facility not provided in or near ...   11204  "
      ]
     },
     "execution_count": 96,
     "metadata": {},
     "output_type": "execute_result"
    }
   ],
   "source": [
    "url = \"https://data.cityofnewyork.us/resource/9w7m-hzhe.json\"\n",
    "response = urllib.urlopen(url)\n",
    "data = json.loads(response.read())\n",
    "\n",
    "pdData = pd.DataFrame(data)\n",
    "\n",
    "copyData = pdData.copy() # create a copy of the dataframd\n",
    "copyData.head(4)"
   ]
  },
  {
   "cell_type": "markdown",
   "metadata": {},
   "source": [
    "### Explore the data"
   ]
  },
  {
   "cell_type": "markdown",
   "metadata": {},
   "source": [
    "#### Find the number of rows in the dataset"
   ]
  },
  {
   "cell_type": "code",
   "execution_count": 71,
   "metadata": {},
   "outputs": [
    {
     "data": {
      "text/plain": [
       "(1000, 18)"
      ]
     },
     "execution_count": 71,
     "metadata": {},
     "output_type": "execute_result"
    }
   ],
   "source": [
    "copyData.shape"
   ]
  },
  {
   "cell_type": "markdown",
   "metadata": {},
   "source": [
    "#### Get the names of the columns"
   ]
  },
  {
   "cell_type": "code",
   "execution_count": 72,
   "metadata": {
    "collapsed": true
   },
   "outputs": [],
   "source": [
    "print(copyData.columns)"
   ]
  },
  {
   "cell_type": "markdown",
   "metadata": {},
   "source": [
    "#### Examine data type of each column"
   ]
  },
  {
   "cell_type": "code",
   "execution_count": 73,
   "metadata": {},
   "outputs": [
    {
     "data": {
      "text/plain": [
       "[<type 'unicode'>    998\n",
       " <type 'float'>        2\n",
       " Name: action, dtype: int64, <type 'unicode'>    1000\n",
       " Name: boro, dtype: int64, <type 'unicode'>    1000\n",
       " Name: building, dtype: int64, <type 'unicode'>    1000\n",
       " Name: camis, dtype: int64, <type 'unicode'>    1000\n",
       " Name: critical_flag, dtype: int64, <type 'unicode'>    1000\n",
       " Name: cuisine_description, dtype: int64, <type 'unicode'>    999\n",
       " <type 'float'>        1\n",
       " Name: dba, dtype: int64, <type 'unicode'>    515\n",
       " <type 'float'>      485\n",
       " Name: grade, dtype: int64, <type 'unicode'>    511\n",
       " <type 'float'>      489\n",
       " Name: grade_date, dtype: int64, <type 'unicode'>    1000\n",
       " Name: inspection_date, dtype: int64, <type 'unicode'>    998\n",
       " <type 'float'>        2\n",
       " Name: inspection_type, dtype: int64, <type 'unicode'>    1000\n",
       " Name: phone, dtype: int64, <type 'unicode'>    1000\n",
       " Name: record_date, dtype: int64, <type 'unicode'>    955\n",
       " <type 'float'>       45\n",
       " Name: score, dtype: int64, <type 'unicode'>    1000\n",
       " Name: street, dtype: int64, <type 'unicode'>    987\n",
       " <type 'float'>       13\n",
       " Name: violation_code, dtype: int64, <type 'unicode'>    986\n",
       " <type 'float'>       14\n",
       " Name: violation_description, dtype: int64, <type 'unicode'>    1000\n",
       " Name: zipcode, dtype: int64]"
      ]
     },
     "execution_count": 73,
     "metadata": {},
     "output_type": "execute_result"
    }
   ],
   "source": [
    "dtypeCount =[copyData.iloc[:,i].apply(type).value_counts() for i in range(copyData.shape[1])]\n",
    "dtypeCount"
   ]
  },
  {
   "cell_type": "markdown",
   "metadata": {},
   "source": [
    "#### Count the missing values by variable"
   ]
  },
  {
   "cell_type": "code",
   "execution_count": 74,
   "metadata": {},
   "outputs": [
    {
     "data": {
      "text/plain": [
       "action                     2\n",
       "boro                       0\n",
       "building                   0\n",
       "camis                      0\n",
       "critical_flag              0\n",
       "cuisine_description        0\n",
       "dba                        1\n",
       "grade                    485\n",
       "grade_date               489\n",
       "inspection_date            0\n",
       "inspection_type            2\n",
       "phone                      0\n",
       "record_date                0\n",
       "score                     45\n",
       "street                     0\n",
       "violation_code            13\n",
       "violation_description     14\n",
       "zipcode                    0\n",
       "dtype: int64"
      ]
     },
     "execution_count": 74,
     "metadata": {},
     "output_type": "execute_result"
    }
   ],
   "source": [
    "copyData.isnull().sum()"
   ]
  },
  {
   "cell_type": "markdown",
   "metadata": {},
   "source": [
    "#### Create a subset of the dataset"
   ]
  },
  {
   "cell_type": "code",
   "execution_count": 75,
   "metadata": {
    "collapsed": true
   },
   "outputs": [],
   "source": [
    "subData = copyData[['cuisine_description', 'action', 'boro', 'grade', 'inspection_type']]\n",
    "\n",
    "subDataC = subData.copy()"
   ]
  },
  {
   "cell_type": "markdown",
   "metadata": {},
   "source": [
    "#### Drop missing values"
   ]
  },
  {
   "cell_type": "code",
   "execution_count": 76,
   "metadata": {},
   "outputs": [
    {
     "data": {
      "text/plain": [
       "cuisine_description    0\n",
       "action                 0\n",
       "boro                   0\n",
       "grade                  0\n",
       "inspection_type        0\n",
       "dtype: int64"
      ]
     },
     "execution_count": 76,
     "metadata": {},
     "output_type": "execute_result"
    }
   ],
   "source": [
    "subNonaC = subDataC.dropna()\n",
    "subNonaC.isnull().sum()"
   ]
  },
  {
   "cell_type": "markdown",
   "metadata": {},
   "source": [
    "#### Examine the grade variable"
   ]
  },
  {
   "cell_type": "code",
   "execution_count": 77,
   "metadata": {
    "scrolled": true
   },
   "outputs": [
    {
     "data": {
      "text/html": [
       "<div>\n",
       "<style>\n",
       "    .dataframe thead tr:only-child th {\n",
       "        text-align: right;\n",
       "    }\n",
       "\n",
       "    .dataframe thead th {\n",
       "        text-align: left;\n",
       "    }\n",
       "\n",
       "    .dataframe tbody tr th {\n",
       "        vertical-align: top;\n",
       "    }\n",
       "</style>\n",
       "<table border=\"1\" class=\"dataframe\">\n",
       "  <thead>\n",
       "    <tr style=\"text-align: right;\">\n",
       "      <th></th>\n",
       "      <th>index</th>\n",
       "      <th>action</th>\n",
       "    </tr>\n",
       "  </thead>\n",
       "  <tbody>\n",
       "    <tr>\n",
       "      <th>0</th>\n",
       "      <td>Violations were cited in the following area(s).</td>\n",
       "      <td>507</td>\n",
       "    </tr>\n",
       "    <tr>\n",
       "      <th>1</th>\n",
       "      <td>No violations were recorded at the time of thi...</td>\n",
       "      <td>5</td>\n",
       "    </tr>\n",
       "    <tr>\n",
       "      <th>2</th>\n",
       "      <td>Establishment re-opened by DOHMH</td>\n",
       "      <td>3</td>\n",
       "    </tr>\n",
       "  </tbody>\n",
       "</table>\n",
       "</div>"
      ],
      "text/plain": [
       "                                               index  action\n",
       "0    Violations were cited in the following area(s).     507\n",
       "1  No violations were recorded at the time of thi...       5\n",
       "2                   Establishment re-opened by DOHMH       3"
      ]
     },
     "execution_count": 77,
     "metadata": {},
     "output_type": "execute_result"
    }
   ],
   "source": [
    "g = pd.value_counts(subNonaC.action).to_frame().reset_index()\n",
    "g"
   ]
  },
  {
   "cell_type": "code",
   "execution_count": 78,
   "metadata": {},
   "outputs": [
    {
     "data": {
      "image/png": "[encoded data removed]",
      "text/plain": [
       "<matplotlib.figure.Figure at 0x120c51f90>"
      ]
     },
     "metadata": {},
     "output_type": "display_data"
    }
   ],
   "source": [
    "sns.countplot(x=\"grade\", data=subNonaC, palette=\"Reds_d\");\n",
    "plt.show()"
   ]
  },
  {
   "cell_type": "markdown",
   "metadata": {},
   "source": [
    "#### Examine boro variable"
   ]
  },
  {
   "cell_type": "code",
   "execution_count": 79,
   "metadata": {},
   "outputs": [
    {
     "data": {
      "image/png": "[encoded data removed]",
      "text/plain": [
       "<matplotlib.figure.Figure at 0x1214f8490>"
      ]
     },
     "metadata": {},
     "output_type": "display_data"
    }
   ],
   "source": [
    "sns.countplot(x=\"boro\", data=subNonaC, palette=\"Oranges_d\");\n",
    "plt.show()"
   ]
  },
  {
   "cell_type": "markdown",
   "metadata": {},
   "source": [
    "#### Review inspection_type"
   ]
  },
  {
   "cell_type": "code",
   "execution_count": 80,
   "metadata": {},
   "outputs": [
    {
     "data": {
      "image/png": "[encoded data removed]",
      "text/plain": [
       "<matplotlib.figure.Figure at 0x11e803d10>"
      ]
     },
     "metadata": {},
     "output_type": "display_data"
    }
   ],
   "source": [
    "sns.countplot(x=\"inspection_type\", data=subNonaC, palette=\"Reds_d\");\n",
    "plt.show()"
   ]
  },
  {
   "cell_type": "markdown",
   "metadata": {},
   "source": [
    "#### Remove values from grade that will not be included in the analysis"
   ]
  },
  {
   "cell_type": "code",
   "execution_count": 81,
   "metadata": {
    "collapsed": true
   },
   "outputs": [],
   "source": [
    "gradeYes = ['A', 'B', 'C']\n",
    "gradeRm = subNonaC.query('grade==@gradeYes')"
   ]
  },
  {
   "cell_type": "code",
   "execution_count": 82,
   "metadata": {
    "collapsed": true
   },
   "outputs": [],
   "source": [
    "gradeRmC = gradeRm.copy()"
   ]
  },
  {
   "cell_type": "code",
   "execution_count": 83,
   "metadata": {},
   "outputs": [
    {
     "data": {
      "text/html": [
       "<div>\n",
       "<style>\n",
       "    .dataframe thead tr:only-child th {\n",
       "        text-align: right;\n",
       "    }\n",
       "\n",
       "    .dataframe thead th {\n",
       "        text-align: left;\n",
       "    }\n",
       "\n",
       "    .dataframe tbody tr th {\n",
       "        vertical-align: top;\n",
       "    }\n",
       "</style>\n",
       "<table border=\"1\" class=\"dataframe\">\n",
       "  <thead>\n",
       "    <tr style=\"text-align: right;\">\n",
       "      <th></th>\n",
       "      <th>cuisine_description</th>\n",
       "      <th>action</th>\n",
       "      <th>boro</th>\n",
       "      <th>grade</th>\n",
       "      <th>inspection_type</th>\n",
       "    </tr>\n",
       "  </thead>\n",
       "  <tbody>\n",
       "    <tr>\n",
       "      <th>0</th>\n",
       "      <td>Bagels/Pretzels</td>\n",
       "      <td>Violations were cited in the following area(s).</td>\n",
       "      <td>MANHATTAN</td>\n",
       "      <td>A</td>\n",
       "      <td>Cycle Inspection / Initial Inspection</td>\n",
       "    </tr>\n",
       "    <tr>\n",
       "      <th>4</th>\n",
       "      <td>Japanese</td>\n",
       "      <td>Violations were cited in the following area(s).</td>\n",
       "      <td>MANHATTAN</td>\n",
       "      <td>A</td>\n",
       "      <td>Cycle Inspection / Initial Inspection</td>\n",
       "    </tr>\n",
       "    <tr>\n",
       "      <th>5</th>\n",
       "      <td>American</td>\n",
       "      <td>Violations were cited in the following area(s).</td>\n",
       "      <td>MANHATTAN</td>\n",
       "      <td>B</td>\n",
       "      <td>Cycle Inspection / Re-inspection</td>\n",
       "    </tr>\n",
       "    <tr>\n",
       "      <th>6</th>\n",
       "      <td>Chinese</td>\n",
       "      <td>Violations were cited in the following area(s).</td>\n",
       "      <td>BRONX</td>\n",
       "      <td>A</td>\n",
       "      <td>Cycle Inspection / Initial Inspection</td>\n",
       "    </tr>\n",
       "    <tr>\n",
       "      <th>9</th>\n",
       "      <td>Pizza</td>\n",
       "      <td>Violations were cited in the following area(s).</td>\n",
       "      <td>MANHATTAN</td>\n",
       "      <td>A</td>\n",
       "      <td>Cycle Inspection / Re-inspection</td>\n",
       "    </tr>\n",
       "  </tbody>\n",
       "</table>\n",
       "</div>"
      ],
      "text/plain": [
       "  cuisine_description                                           action  \\\n",
       "0     Bagels/Pretzels  Violations were cited in the following area(s).   \n",
       "4            Japanese  Violations were cited in the following area(s).   \n",
       "5            American  Violations were cited in the following area(s).   \n",
       "6             Chinese  Violations were cited in the following area(s).   \n",
       "9               Pizza  Violations were cited in the following area(s).   \n",
       "\n",
       "        boro grade                        inspection_type  \n",
       "0  MANHATTAN     A  Cycle Inspection / Initial Inspection  \n",
       "4  MANHATTAN     A  Cycle Inspection / Initial Inspection  \n",
       "5  MANHATTAN     B       Cycle Inspection / Re-inspection  \n",
       "6      BRONX     A  Cycle Inspection / Initial Inspection  \n",
       "9  MANHATTAN     A       Cycle Inspection / Re-inspection  "
      ]
     },
     "execution_count": 83,
     "metadata": {},
     "output_type": "execute_result"
    }
   ],
   "source": [
    "gradeRm.head()"
   ]
  },
  {
   "cell_type": "markdown",
   "metadata": {},
   "source": [
    "#### Review inspection_type variable"
   ]
  },
  {
   "cell_type": "code",
   "execution_count": 84,
   "metadata": {
    "scrolled": true
   },
   "outputs": [
    {
     "data": {
      "text/html": [
       "<div>\n",
       "<style>\n",
       "    .dataframe thead tr:only-child th {\n",
       "        text-align: right;\n",
       "    }\n",
       "\n",
       "    .dataframe thead th {\n",
       "        text-align: left;\n",
       "    }\n",
       "\n",
       "    .dataframe tbody tr th {\n",
       "        vertical-align: top;\n",
       "    }\n",
       "</style>\n",
       "<table border=\"1\" class=\"dataframe\">\n",
       "  <thead>\n",
       "    <tr style=\"text-align: right;\">\n",
       "      <th></th>\n",
       "      <th>index</th>\n",
       "      <th>inspection_type</th>\n",
       "    </tr>\n",
       "  </thead>\n",
       "  <tbody>\n",
       "    <tr>\n",
       "      <th>0</th>\n",
       "      <td>Cycle Inspection / Re-inspection</td>\n",
       "      <td>267</td>\n",
       "    </tr>\n",
       "    <tr>\n",
       "      <th>1</th>\n",
       "      <td>Cycle Inspection / Initial Inspection</td>\n",
       "      <td>184</td>\n",
       "    </tr>\n",
       "    <tr>\n",
       "      <th>2</th>\n",
       "      <td>Pre-permit (Operational) / Re-inspection</td>\n",
       "      <td>36</td>\n",
       "    </tr>\n",
       "    <tr>\n",
       "      <th>3</th>\n",
       "      <td>Pre-permit (Operational) / Initial Inspection</td>\n",
       "      <td>17</td>\n",
       "    </tr>\n",
       "  </tbody>\n",
       "</table>\n",
       "</div>"
      ],
      "text/plain": [
       "                                           index  inspection_type\n",
       "0               Cycle Inspection / Re-inspection              267\n",
       "1          Cycle Inspection / Initial Inspection              184\n",
       "2       Pre-permit (Operational) / Re-inspection               36\n",
       "3  Pre-permit (Operational) / Initial Inspection               17"
      ]
     },
     "execution_count": 84,
     "metadata": {},
     "output_type": "execute_result"
    }
   ],
   "source": [
    "i = pd.value_counts(gradeRm.inspection_type).to_frame().reset_index()\n",
    "i"
   ]
  },
  {
   "cell_type": "markdown",
   "metadata": {},
   "source": [
    "#### Remove spaces"
   ]
  },
  {
   "cell_type": "code",
   "execution_count": 85,
   "metadata": {},
   "outputs": [
    {
     "data": {
      "text/html": [
       "<div>\n",
       "<style>\n",
       "    .dataframe thead tr:only-child th {\n",
       "        text-align: right;\n",
       "    }\n",
       "\n",
       "    .dataframe thead th {\n",
       "        text-align: left;\n",
       "    }\n",
       "\n",
       "    .dataframe tbody tr th {\n",
       "        vertical-align: top;\n",
       "    }\n",
       "</style>\n",
       "<table border=\"1\" class=\"dataframe\">\n",
       "  <thead>\n",
       "    <tr style=\"text-align: right;\">\n",
       "      <th></th>\n",
       "      <th>cuisine_description</th>\n",
       "      <th>action</th>\n",
       "      <th>boro</th>\n",
       "      <th>grade</th>\n",
       "      <th>inspection_type</th>\n",
       "    </tr>\n",
       "  </thead>\n",
       "  <tbody>\n",
       "    <tr>\n",
       "      <th>0</th>\n",
       "      <td>Bagels/Pretzels</td>\n",
       "      <td>Violations_were_cited_in_the_following_area(s).</td>\n",
       "      <td>MANHATTAN</td>\n",
       "      <td>A</td>\n",
       "      <td>Cycle_Inspection_/_Initial_Inspection</td>\n",
       "    </tr>\n",
       "    <tr>\n",
       "      <th>4</th>\n",
       "      <td>Japanese</td>\n",
       "      <td>Violations_were_cited_in_the_following_area(s).</td>\n",
       "      <td>MANHATTAN</td>\n",
       "      <td>A</td>\n",
       "      <td>Cycle_Inspection_/_Initial_Inspection</td>\n",
       "    </tr>\n",
       "    <tr>\n",
       "      <th>5</th>\n",
       "      <td>American</td>\n",
       "      <td>Violations_were_cited_in_the_following_area(s).</td>\n",
       "      <td>MANHATTAN</td>\n",
       "      <td>B</td>\n",
       "      <td>Cycle_Inspection_/_Re-inspection</td>\n",
       "    </tr>\n",
       "    <tr>\n",
       "      <th>6</th>\n",
       "      <td>Chinese</td>\n",
       "      <td>Violations_were_cited_in_the_following_area(s).</td>\n",
       "      <td>BRONX</td>\n",
       "      <td>A</td>\n",
       "      <td>Cycle_Inspection_/_Initial_Inspection</td>\n",
       "    </tr>\n",
       "    <tr>\n",
       "      <th>9</th>\n",
       "      <td>Pizza</td>\n",
       "      <td>Violations_were_cited_in_the_following_area(s).</td>\n",
       "      <td>MANHATTAN</td>\n",
       "      <td>A</td>\n",
       "      <td>Cycle_Inspection_/_Re-inspection</td>\n",
       "    </tr>\n",
       "  </tbody>\n",
       "</table>\n",
       "</div>"
      ],
      "text/plain": [
       "  cuisine_description                                           action  \\\n",
       "0     Bagels/Pretzels  Violations_were_cited_in_the_following_area(s).   \n",
       "4            Japanese  Violations_were_cited_in_the_following_area(s).   \n",
       "5            American  Violations_were_cited_in_the_following_area(s).   \n",
       "6             Chinese  Violations_were_cited_in_the_following_area(s).   \n",
       "9               Pizza  Violations_were_cited_in_the_following_area(s).   \n",
       "\n",
       "        boro grade                        inspection_type  \n",
       "0  MANHATTAN     A  Cycle_Inspection_/_Initial_Inspection  \n",
       "4  MANHATTAN     A  Cycle_Inspection_/_Initial_Inspection  \n",
       "5  MANHATTAN     B       Cycle_Inspection_/_Re-inspection  \n",
       "6      BRONX     A  Cycle_Inspection_/_Initial_Inspection  \n",
       "9  MANHATTAN     A       Cycle_Inspection_/_Re-inspection  "
      ]
     },
     "execution_count": 85,
     "metadata": {},
     "output_type": "execute_result"
    }
   ],
   "source": [
    "inspectSp = gradeRm.stack().str.replace(' ', '_').unstack()\n",
    "inspectSp.head()"
   ]
  },
  {
   "cell_type": "code",
   "execution_count": 86,
   "metadata": {
    "collapsed": true
   },
   "outputs": [],
   "source": [
    "inspectSpC = inspectSp.copy()"
   ]
  },
  {
   "cell_type": "markdown",
   "metadata": {},
   "source": [
    "#### Convert grade to integer"
   ]
  },
  {
   "cell_type": "code",
   "execution_count": 87,
   "metadata": {
    "collapsed": true
   },
   "outputs": [],
   "source": [
    "inspectSpC = inspectSpC.replace(['A', 'B', 'C'],\n",
    "        [1, 2, 3])"
   ]
  },
  {
   "cell_type": "markdown",
   "metadata": {},
   "source": [
    "#### Convert inspection_type to integer"
   ]
  },
  {
   "cell_type": "code",
   "execution_count": 88,
   "metadata": {
    "collapsed": true
   },
   "outputs": [],
   "source": [
    "df = inspectSpC.replace(['Cycle_Inspection_/_Re-inspection', 'Pre-permit_(Operational)_/_Re-inspection'],\n",
    "                       [1, 2])"
   ]
  },
  {
   "cell_type": "code",
   "execution_count": 89,
   "metadata": {},
   "outputs": [
    {
     "data": {
      "text/html": [
       "<div>\n",
       "<style>\n",
       "    .dataframe thead tr:only-child th {\n",
       "        text-align: right;\n",
       "    }\n",
       "\n",
       "    .dataframe thead th {\n",
       "        text-align: left;\n",
       "    }\n",
       "\n",
       "    .dataframe tbody tr th {\n",
       "        vertical-align: top;\n",
       "    }\n",
       "</style>\n",
       "<table border=\"1\" class=\"dataframe\">\n",
       "  <thead>\n",
       "    <tr style=\"text-align: right;\">\n",
       "      <th></th>\n",
       "      <th>cuisine_description</th>\n",
       "      <th>action</th>\n",
       "      <th>boro</th>\n",
       "      <th>grade</th>\n",
       "      <th>inspection_type</th>\n",
       "    </tr>\n",
       "  </thead>\n",
       "  <tbody>\n",
       "    <tr>\n",
       "      <th>0</th>\n",
       "      <td>Bagels/Pretzels</td>\n",
       "      <td>Violations_were_cited_in_the_following_area(s).</td>\n",
       "      <td>MANHATTAN</td>\n",
       "      <td>1</td>\n",
       "      <td>Cycle_Inspection_/_Initial_Inspection</td>\n",
       "    </tr>\n",
       "    <tr>\n",
       "      <th>4</th>\n",
       "      <td>Japanese</td>\n",
       "      <td>Violations_were_cited_in_the_following_area(s).</td>\n",
       "      <td>MANHATTAN</td>\n",
       "      <td>1</td>\n",
       "      <td>Cycle_Inspection_/_Initial_Inspection</td>\n",
       "    </tr>\n",
       "    <tr>\n",
       "      <th>5</th>\n",
       "      <td>American</td>\n",
       "      <td>Violations_were_cited_in_the_following_area(s).</td>\n",
       "      <td>MANHATTAN</td>\n",
       "      <td>2</td>\n",
       "      <td>1</td>\n",
       "    </tr>\n",
       "    <tr>\n",
       "      <th>6</th>\n",
       "      <td>Chinese</td>\n",
       "      <td>Violations_were_cited_in_the_following_area(s).</td>\n",
       "      <td>BRONX</td>\n",
       "      <td>1</td>\n",
       "      <td>Cycle_Inspection_/_Initial_Inspection</td>\n",
       "    </tr>\n",
       "    <tr>\n",
       "      <th>9</th>\n",
       "      <td>Pizza</td>\n",
       "      <td>Violations_were_cited_in_the_following_area(s).</td>\n",
       "      <td>MANHATTAN</td>\n",
       "      <td>1</td>\n",
       "      <td>1</td>\n",
       "    </tr>\n",
       "  </tbody>\n",
       "</table>\n",
       "</div>"
      ],
      "text/plain": [
       "  cuisine_description                                           action  \\\n",
       "0     Bagels/Pretzels  Violations_were_cited_in_the_following_area(s).   \n",
       "4            Japanese  Violations_were_cited_in_the_following_area(s).   \n",
       "5            American  Violations_were_cited_in_the_following_area(s).   \n",
       "6             Chinese  Violations_were_cited_in_the_following_area(s).   \n",
       "9               Pizza  Violations_were_cited_in_the_following_area(s).   \n",
       "\n",
       "        boro  grade                        inspection_type  \n",
       "0  MANHATTAN      1  Cycle_Inspection_/_Initial_Inspection  \n",
       "4  MANHATTAN      1  Cycle_Inspection_/_Initial_Inspection  \n",
       "5  MANHATTAN      2                                      1  \n",
       "6      BRONX      1  Cycle_Inspection_/_Initial_Inspection  \n",
       "9  MANHATTAN      1                                      1  "
      ]
     },
     "execution_count": 89,
     "metadata": {},
     "output_type": "execute_result"
    }
   ],
   "source": [
    "df.head()"
   ]
  },
  {
   "cell_type": "code",
   "execution_count": 90,
   "metadata": {
    "collapsed": true
   },
   "outputs": [],
   "source": [
    "dfC = df.copy()"
   ]
  },
  {
   "cell_type": "code",
   "execution_count": 91,
   "metadata": {},
   "outputs": [
    {
     "data": {
      "text/plain": [
       "cuisine_description    object\n",
       "action                 object\n",
       "boro                   object\n",
       "grade                   int64\n",
       "inspection_type        object\n",
       "dtype: object"
      ]
     },
     "execution_count": 91,
     "metadata": {},
     "output_type": "execute_result"
    }
   ],
   "source": [
    "dfC.dtypes"
   ]
  },
  {
   "cell_type": "markdown",
   "metadata": {},
   "source": [
    "### Visualize the data"
   ]
  },
  {
   "cell_type": "code",
   "execution_count": 92,
   "metadata": {},
   "outputs": [
    {
     "data": {
      "image/png": "[encoded data removed]",
      "text/plain": [
       "<matplotlib.figure.Figure at 0x11fd5d910>"
      ]
     },
     "metadata": {},
     "output_type": "display_data"
    }
   ],
   "source": [
    "s=sns.countplot(x=\"boro\", hue=\"grade\", data=gradeRm, palette=\"Oranges_d\").set_title('Borough by Grade', \n",
    "                                          fontsize=18,color=\"black\",alpha=0.5) \n",
    "plt.show()"
   ]
  },
  {
   "cell_type": "markdown",
   "metadata": {},
   "source": [
    "### Convert text to a single string"
   ]
  },
  {
   "cell_type": "code",
   "execution_count": 93,
   "metadata": {
    "collapsed": true
   },
   "outputs": [],
   "source": [
    "import requests\n",
    "import io\n",
    "text = gradeRm.cuisine_description\n",
    "word_string ='\\t'.join([line.strip() for line in text])\n"
   ]
  },
  {
   "cell_type": "code",
   "execution_count": 94,
   "metadata": {
    "scrolled": false
   },
   "outputs": [
    {
     "data": {
      "image/png": "[encoded data removed]",
      "text/plain": [
       "<matplotlib.figure.Figure at 0x11fa872d0>"
      ]
     },
     "metadata": {},
     "output_type": "display_data"
    }
   ],
   "source": [
    "\n",
    "wordcloud = WordCloud(background_color='white',\n",
    "                          width=1200,\n",
    "                          height=1000\n",
    "                         ).generate(word_string)\n",
    "                       \n",
    "plt.imshow(wordcloud)\n",
    "plt.axis('off')\n",
    "plt.show()"
   ]
  },
  {
   "cell_type": "markdown",
   "metadata": {},
   "source": [
    "## Analysis\n",
    "The Mann Whitney U Test was used to determine whether the grade a resturant receives (A, B, C) and the inspecition type (Inspection/Re-inspection, Pre-permit (Operational) / Re-inspection) are statistically significant."
   ]
  },
  {
   "cell_type": "markdown",
   "metadata": {},
   "source": [
    "#### Mann Whitney U Test"
   ]
  },
  {
   "cell_type": "code",
   "execution_count": null,
   "metadata": {
    "collapsed": true
   },
   "outputs": [],
   "source": [
    "from scipy.stats import mannwhitneyu\n",
    "\n",
    "m = mannwhitneyu(dfC.grade, dfC.inspection_type)\n",
    "print \"The U statistic is %.10f and the p-value is %.10f.\" % m"
   ]
  },
  {
   "cell_type": "markdown",
   "metadata": {},
   "source": [
    "From this data it can be concluded, there is a statistically significant difference between the grade a restaurant receives and the inspection type (Mann Whitney U=25650.0. $P<.05$). These results should be cautiously interpreted since the P-Value is extremely small. \n"
   ]
  }
 ],
 "metadata": {
  "kernelspec": {
   "display_name": "Python [default]",
   "language": "python",
   "name": "python2"
  },
  "language_info": {
   "codemirror_mode": {
    "name": "ipython",
    "version": 2
   },
   "file_extension": ".py",
   "mimetype": "text/x-python",
   "name": "python",
   "nbconvert_exporter": "python",
   "pygments_lexer": "ipython2",
   "version": "2.7.13"
  },
  "widgets": {
   "application/vnd.jupyter.widget-state+json": {
    "state": {},
    "version_major": 1,
    "version_minor": 0
   }
  }
 },
 "nbformat": 4,
 "nbformat_minor": 1
}
